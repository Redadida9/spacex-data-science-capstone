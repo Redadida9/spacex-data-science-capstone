{
 "cells": [
  {
   "cell_type": "markdown",
   "id": "cee34cf0-59d6-42ed-97bc-15cdace937a0",
   "metadata": {},
   "source": [
    "# SpaceX Data Science Capstone: Data Collection"
   ]
  },
  {
   "cell_type": "code",
   "execution_count": 2,
   "id": "21694281-fb0e-423d-9318-83ad4d771e1f",
   "metadata": {},
   "outputs": [
    {
     "name": "stdout",
     "output_type": "stream",
     "text": [
      "This notebook will fetch SpaceX launch data\n"
     ]
    }
   ],
   "source": [
    "# Placeholder for SpaceX API data collection and web scraping\n",
    "import requests\n",
    "import pandas as pd\n",
    "print(\"This notebook will fetch SpaceX launch data\")"
   ]
  },
  {
   "cell_type": "code",
   "execution_count": null,
   "id": "45ac58de-3140-4ccc-80e2-193d5216b99e",
   "metadata": {},
   "outputs": [],
   "source": []
  }
 ],
 "metadata": {
  "kernelspec": {
   "display_name": "Python [conda env:base] *",
   "language": "python",
   "name": "conda-base-py"
  },
  "language_info": {
   "codemirror_mode": {
    "name": "ipython",
    "version": 3
   },
   "file_extension": ".py",
   "mimetype": "text/x-python",
   "name": "python",
   "nbconvert_exporter": "python",
   "pygments_lexer": "ipython3",
   "version": "3.13.5"
  }
 },
 "nbformat": 4,
 "nbformat_minor": 5
}
